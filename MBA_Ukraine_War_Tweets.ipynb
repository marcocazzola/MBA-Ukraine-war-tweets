{
  "nbformat": 4,
  "nbformat_minor": 0,
  "metadata": {
    "colab": {
      "provenance": [],
      "collapsed_sections": []
    },
    "kernelspec": {
      "name": "python3",
      "display_name": "Python 3"
    },
    "language_info": {
      "name": "python"
    }
  },
  "cells": [
    {
      "cell_type": "markdown",
      "source": [
        "[![Open In Colab](https://colab.research.google.com/assets/colab-badge.svg)](https://colab.research.google.com/drive/12s3800zmkJdQQdPqHDgym8BT8hle9Dtz)"
      ],
      "metadata": {
        "id": "RxAl5zuQvehD"
      }
    },
    {
      "cell_type": "markdown",
      "source": [
        "# Install required packages"
      ],
      "metadata": {
        "id": "O59JxBdYJITF"
      }
    },
    {
      "cell_type": "code",
      "source": [
        "!pip install kaggle "
      ],
      "metadata": {
        "id": "Adszqtu5ejtP",
        "colab": {
          "base_uri": "https://localhost:8080/"
        },
        "outputId": "c70f7d28-fb0c-4184-e11c-73ab443bd300"
      },
      "execution_count": null,
      "outputs": [
        {
          "output_type": "stream",
          "name": "stdout",
          "text": [
            "Looking in indexes: https://pypi.org/simple, https://us-python.pkg.dev/colab-wheels/public/simple/\n",
            "Collecting kaggle\n",
            "  Downloading kaggle-1.5.12.tar.gz (58 kB)\n",
            "\u001b[K     |████████████████████████████████| 58 kB 2.6 MB/s \n",
            "\u001b[?25hRequirement already satisfied: six>=1.10 in /usr/local/lib/python3.7/dist-packages (from kaggle) (1.15.0)\n",
            "Requirement already satisfied: certifi in /usr/local/lib/python3.7/dist-packages (from kaggle) (2022.6.15)\n",
            "Requirement already satisfied: python-dateutil in /usr/local/lib/python3.7/dist-packages (from kaggle) (2.8.2)\n",
            "Requirement already satisfied: requests in /usr/local/lib/python3.7/dist-packages (from kaggle) (2.23.0)\n",
            "Requirement already satisfied: tqdm in /usr/local/lib/python3.7/dist-packages (from kaggle) (4.64.0)\n",
            "Requirement already satisfied: python-slugify in /usr/local/lib/python3.7/dist-packages (from kaggle) (6.1.2)\n",
            "Requirement already satisfied: urllib3 in /usr/local/lib/python3.7/dist-packages (from kaggle) (1.24.3)\n",
            "Requirement already satisfied: text-unidecode>=1.3 in /usr/local/lib/python3.7/dist-packages (from python-slugify->kaggle) (1.3)\n",
            "Requirement already satisfied: idna<3,>=2.5 in /usr/local/lib/python3.7/dist-packages (from requests->kaggle) (2.10)\n",
            "Requirement already satisfied: chardet<4,>=3.0.2 in /usr/local/lib/python3.7/dist-packages (from requests->kaggle) (3.0.4)\n",
            "Building wheels for collected packages: kaggle\n",
            "  Building wheel for kaggle (setup.py) ... \u001b[?25l\u001b[?25hdone\n",
            "  Created wheel for kaggle: filename=kaggle-1.5.12-py3-none-any.whl size=73051 sha256=cfad9b8294e78a6dd3489299067d345278d326b23afd39a54ace003a6f2873f6\n",
            "  Stored in directory: /root/.cache/pip/wheels/62/d6/58/5853130f941e75b2177d281eb7e44b4a98ed46dd155f556dc5\n",
            "Successfully built kaggle\n",
            "Installing collected packages: kaggle\n",
            "Successfully installed kaggle-1.5.12\n"
          ]
        }
      ]
    },
    {
      "cell_type": "code",
      "source": [
        "!pip install pyspark"
      ],
      "metadata": {
        "id": "9ADlNz0y7Ood",
        "colab": {
          "base_uri": "https://localhost:8080/"
        },
        "outputId": "4192d869-7b2f-4b75-8aee-10cd88a43a9a"
      },
      "execution_count": 7,
      "outputs": [
        {
          "output_type": "stream",
          "name": "stdout",
          "text": [
            "Looking in indexes: https://pypi.org/simple, https://us-python.pkg.dev/colab-wheels/public/simple/\n",
            "Collecting pyspark\n",
            "  Downloading pyspark-3.3.0.tar.gz (281.3 MB)\n",
            "\u001b[K     |████████████████████████████████| 281.3 MB 42 kB/s \n",
            "\u001b[?25hCollecting py4j==0.10.9.5\n",
            "  Downloading py4j-0.10.9.5-py2.py3-none-any.whl (199 kB)\n",
            "\u001b[K     |████████████████████████████████| 199 kB 51.6 MB/s \n",
            "\u001b[?25hBuilding wheels for collected packages: pyspark\n",
            "  Building wheel for pyspark (setup.py) ... \u001b[?25l\u001b[?25hdone\n",
            "  Created wheel for pyspark: filename=pyspark-3.3.0-py2.py3-none-any.whl size=281764026 sha256=c0ad5649e8df2f84a09c0acef3e548da6a7c361e912c52717725e7028474f2eb\n",
            "  Stored in directory: /root/.cache/pip/wheels/7a/8e/1b/f73a52650d2e5f337708d9f6a1750d451a7349a867f928b885\n",
            "Successfully built pyspark\n",
            "Installing collected packages: py4j, pyspark\n",
            "Successfully installed py4j-0.10.9.5 pyspark-3.3.0\n"
          ]
        }
      ]
    },
    {
      "cell_type": "markdown",
      "source": [
        "# Data import"
      ],
      "metadata": {
        "id": "XEC7cr9l0UpC"
      }
    },
    {
      "cell_type": "code",
      "source": [
        "import pandas as pd\n",
        "import numpy as np\n",
        "import csv\n",
        "import os\n",
        "from zipfile import ZipFile\n",
        "import matplotlib.pyplot as plt\n",
        "import seaborn as sns\n",
        "from itertools import combinations\n",
        "\n",
        "#For string manipulation\n",
        "import string\n",
        "import re\n",
        "punct = set(string.punctuation) \n",
        "\n",
        "#StopWords\n",
        "import nltk\n",
        "from nltk.corpus import stopwords\n",
        "nltk.download(\"stopwords\")\n",
        "stop_words = set(stopwords.words(\"english\"))\n",
        "\n",
        "#Lemmatizer \n",
        "from nltk.stem import WordNetLemmatizer\n",
        "nltk.download('wordnet')\n",
        "nltk.download('omw-1.4')\n",
        "lemmatizer = WordNetLemmatizer()\n",
        "\n",
        "#Tokenizer\n",
        "#from nltk.tokenize import word_tokenize\n",
        "#nltk.download('punkt')"
      ],
      "metadata": {
        "id": "0A40o-jAnRg1",
        "colab": {
          "base_uri": "https://localhost:8080/"
        },
        "outputId": "43188f1b-9e66-4df9-a6ed-7e237ee6fcd4"
      },
      "execution_count": 1,
      "outputs": [
        {
          "output_type": "stream",
          "name": "stderr",
          "text": [
            "[nltk_data] Downloading package stopwords to /root/nltk_data...\n",
            "[nltk_data]   Unzipping corpora/stopwords.zip.\n",
            "[nltk_data] Downloading package wordnet to /root/nltk_data...\n",
            "[nltk_data] Downloading package omw-1.4 to /root/nltk_data...\n"
          ]
        }
      ]
    },
    {
      "cell_type": "code",
      "source": [
        "os.environ[\"KAGGLE_USERNAME\"] = \"marcocazzola\"\n",
        "os.environ[\"KAGGLE_KEY\"] = \"2c598ba6fcb8fe02fc9d42b1dd44224b\"\n",
        "\n",
        "#4th of April -> Bucha massacre discover\n",
        "!kaggle datasets download bwandowando/ukraine-russian-crisis-twitter-dataset-1-2-m-rows -f UkraineWar/UkraineWar/0404_UkraineCombinedTweetsDeduped.csv.gzip "
      ],
      "metadata": {
        "colab": {
          "base_uri": "https://localhost:8080/"
        },
        "id": "gcrYL7Nac-m8",
        "outputId": "1b9a74f4-3bd7-4457-aa96-d7f7cc0c6d68"
      },
      "execution_count": 2,
      "outputs": [
        {
          "output_type": "stream",
          "name": "stdout",
          "text": [
            "Downloading 0404_UkraineCombinedTweetsDeduped.csv.gzip.zip to /content\n",
            " 98% 92.0M/94.2M [00:02<00:00, 45.6MB/s]\n",
            "100% 94.2M/94.2M [00:02<00:00, 48.6MB/s]\n"
          ]
        }
      ]
    },
    {
      "cell_type": "code",
      "source": [
        "#Read the dataframe and consider only english tweets\n",
        "with ZipFile('/content/0404_UkraineCombinedTweetsDeduped.csv.gzip.zip', 'r') as zip_object:\n",
        "    zip_object.extractall()\n",
        "\n",
        "df = pd.read_csv(\"/content/0404_UkraineCombinedTweetsDeduped.csv.gzip\", \n",
        "                 compression='gzip', index_col=0, encoding='utf-8', \n",
        "                 quoting=csv.QUOTE_ALL)\n",
        "df = df[df.language == 'en']\n",
        "\n",
        "#A sample of 5000 unique english tweets\n",
        "tweets = pd.Series(df.text.unique()).sample(n = 5000, random_state=42)\n",
        "tweets"
      ],
      "metadata": {
        "id": "zPtpYcnwq-VZ",
        "colab": {
          "base_uri": "https://localhost:8080/"
        },
        "outputId": "3995caf8-dd6c-47e6-9123-61f7bff8207c"
      },
      "execution_count": 3,
      "outputs": [
        {
          "output_type": "stream",
          "name": "stderr",
          "text": [
            "/usr/local/lib/python3.7/dist-packages/IPython/core/interactiveshell.py:3326: DtypeWarning: Columns (15) have mixed types.Specify dtype option on import or set low_memory=False.\n",
            "  exec(code_obj, self.user_global_ns, self.user_ns)\n"
          ]
        },
        {
          "output_type": "execute_result",
          "data": {
            "text/plain": [
              "60582    Nah 🙄\\n\\nRussia is trying HARD to spread FAKES...\n",
              "12890    My hope is for peace amongst all people and a ...\n",
              "64511    @HillReporter @MeidasTouch #BREAKING: Judge Ke...\n",
              "4097     There is a moment when cowardly is an excuse f...\n",
              "40919    ‼️ Ombudsman Lyudmila Denisova called the pris...\n",
              "                               ...                        \n",
              "5718     It’s rare that any EU country would ask anythi...\n",
              "20322    Epoch of the boneless politics… @UN @UNHumanRi...\n",
              "28375                   #Bucha don’t forget, don’t forgive\n",
              "8171     Family says Russians kidnapped this Ukrainian ...\n",
              "52865    #Zelenskyy  describing the #AzovBattalion #AZO...\n",
              "Length: 5000, dtype: object"
            ]
          },
          "metadata": {},
          "execution_count": 3
        }
      ]
    },
    {
      "cell_type": "markdown",
      "source": [
        "# Preprocessing"
      ],
      "metadata": {
        "id": "h3VSkkIo0bE5"
      }
    },
    {
      "cell_type": "code",
      "source": [
        "#Function to be applied to preprocess each tweet for cleaning purposes\n",
        "\n",
        "def cleaning_txt(tweet): \n",
        "\n",
        "  #1. Lowercase everything\n",
        "  res = tweet.lower()\n",
        "\n",
        "  #2. Remove URLs\n",
        "  res = re.sub(\"https?:\\/\\/.*[\\r\\n]*\", \"\", res)\\\n",
        "\n",
        "  #3. Remove punctuation \n",
        "  res = \"\".join([ch for ch in res if ch not in punct])\n",
        "\n",
        "  #4. After point 3, \"&amp\" (standing for \"&\") has become \"amp\", so let us substitute any \" amp \" with \" and \"\n",
        "  #   Moreover, let us also remove any \"strange\" utf code and emoticons\n",
        "  res = re.sub(\" amp \", \" and \", res).encode(\"ascii\", \"ignore\").decode().replace(\"\\n\", \" \")\n",
        "\n",
        "  #5. Tokenize\n",
        "  res = res.split()\n",
        "\n",
        "  #6. Remove stopwords\n",
        "  res = [w for w in res if w not in stop_words]\n",
        "\n",
        "  #7. Lemmatization\n",
        "  res = [lemmatizer.lemmatize(w) for w in res]\n",
        "\n",
        "  #8. Just unique words inside a sentence\n",
        "  res = list(set(res))\n",
        "\n",
        "  return(res)"
      ],
      "metadata": {
        "id": "rdOxzdQGVJWh"
      },
      "execution_count": 4,
      "outputs": []
    },
    {
      "cell_type": "code",
      "source": [
        "#creating the spark context\n",
        "from pyspark.sql import SparkSession\n",
        "spark = SparkSession.builder.master(\"local[*]\").getOrCreate()\n",
        "sc = spark.sparkContext"
      ],
      "metadata": {
        "id": "umGsE42tVB_F"
      },
      "execution_count": 8,
      "outputs": []
    },
    {
      "cell_type": "code",
      "source": [
        "#parallelizing original data\n",
        "rdd = sc.parallelize(tweets)"
      ],
      "metadata": {
        "id": "YDpxb9FS2OBt"
      },
      "execution_count": 9,
      "outputs": []
    },
    {
      "cell_type": "code",
      "source": [
        "#clean the parallelized data\n",
        "rdd = rdd.map(cleaning_txt)"
      ],
      "metadata": {
        "id": "TqNgkoIq2Kyr"
      },
      "execution_count": 10,
      "outputs": []
    },
    {
      "cell_type": "code",
      "source": [
        "#Nr of baskets\n",
        "n = len(tweets)\n",
        "\n",
        "#List of unique words\n",
        "unique_ws = rdd.flatMap(lambda txt: txt)\\\n",
        ".map(lambda w: (w, 1))\\\n",
        ".reduceByKey(lambda w1, w2: 1)\\\n",
        ".map(lambda x: x[0])\\\n",
        ".collect()\n",
        "  \n",
        "#Dict of the type(word : int)\n",
        "unique_wsk = dict((w, i) for i,w in enumerate(unique_ws, 1)) \n",
        "#Dict of the type(int : word)\n",
        "unique_wsv = dict((i, w) for i,w in enumerate(unique_ws, 1)) "
      ],
      "metadata": {
        "id": "YqgjbaDFZoVa"
      },
      "execution_count": 11,
      "outputs": []
    },
    {
      "cell_type": "markdown",
      "source": [
        "#Algorithm implementation"
      ],
      "metadata": {
        "id": "5q5Et6fPSAnP"
      }
    },
    {
      "cell_type": "markdown",
      "source": [
        "The goal of the project is to find *frequent* itemsets. \n",
        "\n",
        "By frequent we mean itemsets with a frequency higher than a given threshold. \n",
        "\n",
        "In our case, we will consider as frequent any item or itemset appearing at least in 2% of the tweets. "
      ],
      "metadata": {
        "id": "P87cuorQ559o"
      }
    },
    {
      "cell_type": "code",
      "source": [
        "def toWords(x, w_dict): \n",
        "  if type(x) == int: \n",
        "    return( w_dict[x] )\n",
        "  else: \n",
        "    return( (tuple([w_dict[i] for i in x])) )"
      ],
      "metadata": {
        "id": "vRuNbqd7uxtA"
      },
      "execution_count": 12,
      "outputs": []
    },
    {
      "cell_type": "code",
      "source": [
        "def candidateFrequentSets(sent, freq_only): \n",
        "\n",
        "  if type(freq_only[0]) == int: \n",
        "    cand_set = [tuple(sorted(t)) for t in list(combinations(sent, 2))]\n",
        "    res = []\n",
        "\n",
        "    for cand in cand_set: \n",
        "      filtr = [w for w in cand]\n",
        "      if all( [sub in freq_only for sub in filtr] ):\n",
        "        res.append((cand, 1))\n",
        "      else: \n",
        "        continue\n",
        "\n",
        "  else: \n",
        "    km1 = len(freq_only[0])\n",
        "    cand_set = [tuple(sorted(t)) for t in list(combinations(sent, km1 + 1))]\n",
        "    res = []\n",
        "\n",
        "    for cand in cand_set: \n",
        "      filtr = [tuple(sorted(t)) for t in list(combinations(cand, km1))]\n",
        "      if all( [sub in freq_only for sub in filtr] ): \n",
        "        res.append((cand, 1))\n",
        "      else: \n",
        "        continue\n",
        "\n",
        "  return(res)"
      ],
      "metadata": {
        "id": "lfM27IpT1WIg"
      },
      "execution_count": 13,
      "outputs": []
    },
    {
      "cell_type": "code",
      "source": [
        "def apriori(rdd, i_dict, n, k=2, s=0.02): \n",
        "\n",
        "  counts = [None] * k\n",
        "  freq_only = [None] * k\n",
        "\n",
        "  #tweets to integers\n",
        "  sent_int = rdd.map(lambda x: [i_dict[w] for w in x])\n",
        "\n",
        "  counts[0] = sent_int.flatMap(lambda sent: sent)\\\n",
        "  .map(lambda w: (w, 1))\\\n",
        "  .reduceByKey(lambda w1, w2: w1+w2)\\\n",
        "  .filter(lambda x: x[1] > s*n)\n",
        "\n",
        "  freq_only[0] = counts[0]\\\n",
        "  .map(lambda x: x[0])\\\n",
        "  .collect()\n",
        "\n",
        "  if k == 1: \n",
        "    return (counts) \n",
        "\n",
        "  else: \n",
        "    curr_k = 2\n",
        "    \n",
        "    while curr_k <= k:\n",
        "      counts[curr_k - 1] = sent_int.filter(lambda x: len(x) >= curr_k)\\\n",
        "      .flatMap(lambda x: candidateFrequentSets(x, freq_only[curr_k - 2]))\\\n",
        "      .reduceByKey(lambda t1, t2: t1+t2)\\\n",
        "      .filter(lambda x: x[1] > s*n)\n",
        "      \n",
        "      freq_only[curr_k - 1] = counts[curr_k - 1]\\\n",
        "      .map(lambda x: x[0])\\\n",
        "      .collect()\n",
        "\n",
        "      if len(freq_only[curr_k - 1]) == 0: \n",
        "        return(\"No frequent itemsets of such size.\")\n",
        "\n",
        "      elif curr_k == k:\n",
        "        return (counts) \n",
        "\n",
        "      else:\n",
        "        curr_k += 1 \n",
        "  "
      ],
      "metadata": {
        "id": "JzZ6ZEQ3p7vF"
      },
      "execution_count": 14,
      "outputs": []
    },
    {
      "cell_type": "code",
      "source": [
        "#Generate the count of frequent itemsets\n",
        "counts = apriori(rdd, unique_wsk, n, k=3)"
      ],
      "metadata": {
        "id": "Sz_GPWGnqYHP"
      },
      "execution_count": 15,
      "outputs": []
    },
    {
      "cell_type": "code",
      "source": [
        "def getWordsAndFreq(counts, w_dict, k):\n",
        "\n",
        "  res = counts[k-1].map(lambda x: (toWords(x[0], w_dict), x[1]))\\\n",
        "  .sortBy(lambda x: -x[1])\\\n",
        "  .collect()\n",
        "\n",
        "  return(dict(res))"
      ],
      "metadata": {
        "id": "LqiJfUEW8pwC"
      },
      "execution_count": 16,
      "outputs": []
    },
    {
      "cell_type": "code",
      "source": [
        "getWordsAndFreq(counts, unique_wsv, k=3)"
      ],
      "metadata": {
        "colab": {
          "base_uri": "https://localhost:8080/"
        },
        "id": "lX4XLsYNcPm0",
        "outputId": "2b1874aa-1fff-4c60-d4dd-1916d2a8db76"
      },
      "execution_count": 17,
      "outputs": [
        {
          "output_type": "execute_result",
          "data": {
            "text/plain": [
              "{('russia', 'ukraine', 'russian'): 197,\n",
              " ('putin', 'russia', 'ukraine'): 197,\n",
              " ('russia', 'ukraine', 'war'): 190,\n",
              " ('putin', 'ukraine', 'war'): 148,\n",
              " ('ukraine', 'russian', 'war'): 128,\n",
              " ('ukraine', 'crime', 'war'): 120,\n",
              " ('bucha', 'russia', 'ukraine'): 120,\n",
              " ('bucha', 'ukraine', 'russian'): 103,\n",
              " ('putin', 'ukraine', 'russian'): 103,\n",
              " ('ukrainian', 'ukraine', 'russian'): 101}"
            ]
          },
          "metadata": {},
          "execution_count": 17
        }
      ]
    },
    {
      "cell_type": "markdown",
      "source": [
        "# Confidence and interest"
      ],
      "metadata": {
        "id": "qT-CcI_1SDX0"
      }
    },
    {
      "cell_type": "code",
      "source": [
        "def confAndIntr(counts, n, w_dict, k):\n",
        "\n",
        "  big_sets = counts[k-1].map(lambda x: x[0]).collect()\n",
        "\n",
        "  conf = {}\n",
        "  intr = {}\n",
        "\n",
        "  for big_set in big_sets: \n",
        "    if k == 2:\n",
        "      Is = [i for i in big_set]\n",
        "    else:\n",
        "      Is = [tuple(sorted(t)) for t in list(combinations(big_set, k-1))]\n",
        "\n",
        "    js = [int(np.setdiff1d(big_set, t)[0]) for t in Is]\n",
        "\n",
        "    freq_big_set = counts[k-1].filter(lambda x: x[0] == big_set)\\\n",
        "    .map(lambda x: x[1])\\\n",
        "    .collect()[0]\n",
        "\n",
        "    for idx in range(len(Is)): \n",
        "      I = Is[idx]\n",
        "      j = js[idx]\n",
        "\n",
        "      freq_I = counts[k-2].filter(lambda x: x[0] == I)\\\n",
        "      .map(lambda x: x[1])\\\n",
        "      .collect()[0]\n",
        "\n",
        "      freq_j = counts[0].filter(lambda x: x[0] == j)\\\n",
        "      .map(lambda x: x[1])\\\n",
        "      .collect()[0]\n",
        "\n",
        "      conf[(toWords(I, w_dict), toWords(j, w_dict))] = freq_big_set / freq_I\n",
        "      intr[(toWords(I, w_dict), toWords(j, w_dict))] = (freq_big_set / freq_I) - \\\n",
        "                                                       (freq_j / n)\n",
        "\n",
        "  #Sorting the dicts\n",
        "  conf = dict(sorted(conf.items(), key= lambda x: -x[1]))\n",
        "  intr = dict(sorted(intr.items(), key= lambda x: -x[1]))\n",
        "\n",
        "  return(conf, intr)"
      ],
      "metadata": {
        "id": "PJyt_1j6k3yd"
      },
      "execution_count": 18,
      "outputs": []
    },
    {
      "cell_type": "code",
      "source": [
        "conf, intr = confAndIntr(counts, n, unique_wsv, k=3)"
      ],
      "metadata": {
        "id": "Fe73NnHjsyGr"
      },
      "execution_count": 22,
      "outputs": []
    },
    {
      "cell_type": "code",
      "source": [
        "conf_s = pd.Series(conf).reset_index().rename(columns={'level_0' : 'I', 'level_1' : 'j', 0 : 'Confidence'})\n",
        "intr_s = pd.Series(intr).reset_index().rename(columns={'level_0' : 'I', 'level_1' : 'j', 0 : 'Interest'})"
      ],
      "metadata": {
        "id": "dy0liM9h9OeD"
      },
      "execution_count": 23,
      "outputs": []
    },
    {
      "cell_type": "code",
      "source": [
        "pd.merge(conf_s, intr_s, how='outer', on=['I', 'j']).sort_values(by=['Interest', 'Confidence'], ascending=False)"
      ],
      "metadata": {
        "colab": {
          "base_uri": "https://localhost:8080/",
          "height": 990
        },
        "id": "uy4wTq3fE6Yu",
        "outputId": "f0053c10-852f-456d-d3d8-fbdf7e131655"
      },
      "execution_count": 24,
      "outputs": [
        {
          "output_type": "execute_result",
          "data": {
            "text/plain": [
              "                       I          j  Confidence  Interest\n",
              "0       (ukraine, crime)        war    0.821918  0.665118\n",
              "1          (russia, war)    ukraine    0.745098  0.242098\n",
              "9       (putin, ukraine)     russia    0.461358  0.196558\n",
              "15      (putin, ukraine)        war    0.346604  0.189804\n",
              "2         (russian, war)    ukraine    0.684492  0.181492\n",
              "23        (ukraine, war)      crime    0.233463  0.179663\n",
              "3      (russia, russian)    ukraine    0.663300  0.160300\n",
              "4        (bucha, russia)    ukraine    0.655738  0.152738\n",
              "13  (ukrainian, ukraine)    russian    0.367273  0.145473\n",
              "5        (putin, russia)    ukraine    0.623418  0.120418\n",
              "18        (ukraine, war)      putin    0.287938  0.108338\n",
              "12        (ukraine, war)     russia    0.369650  0.104850\n",
              "14      (bucha, ukraine)     russia    0.357143  0.092343\n",
              "17      (bucha, ukraine)    russian    0.306548  0.084748\n",
              "16    (ukraine, russian)     russia    0.346221  0.081421\n",
              "6           (putin, war)    ukraine    0.573643  0.070643\n",
              "24     (russia, ukraine)        war    0.227273  0.070473\n",
              "7           (crime, war)    ukraine    0.571429  0.068429\n",
              "25    (ukraine, russian)        war    0.224956  0.068156\n",
              "28    (ukraine, russian)  ukrainian    0.177504  0.065704\n",
              "22     (russia, ukraine)      putin    0.235646  0.056046\n",
              "26    (ukraine, russian)      bucha    0.181019  0.030019\n",
              "19        (ukraine, war)    russian    0.249027  0.027227\n",
              "20      (putin, ukraine)    russian    0.241218  0.019418\n",
              "8       (putin, russian)    ukraine    0.517588  0.014588\n",
              "21     (russia, ukraine)    russian    0.235646  0.013846\n",
              "27    (ukraine, russian)      putin    0.181019  0.001419\n",
              "29     (russia, ukraine)      bucha    0.143541 -0.007459\n",
              "10  (ukrainian, russian)    ukraine    0.415638 -0.087362\n",
              "11      (bucha, russian)    ukraine    0.399225 -0.103775"
            ],
            "text/html": [
              "\n",
              "  <div id=\"df-8e55c123-e960-447a-afba-358c9906706d\">\n",
              "    <div class=\"colab-df-container\">\n",
              "      <div>\n",
              "<style scoped>\n",
              "    .dataframe tbody tr th:only-of-type {\n",
              "        vertical-align: middle;\n",
              "    }\n",
              "\n",
              "    .dataframe tbody tr th {\n",
              "        vertical-align: top;\n",
              "    }\n",
              "\n",
              "    .dataframe thead th {\n",
              "        text-align: right;\n",
              "    }\n",
              "</style>\n",
              "<table border=\"1\" class=\"dataframe\">\n",
              "  <thead>\n",
              "    <tr style=\"text-align: right;\">\n",
              "      <th></th>\n",
              "      <th>I</th>\n",
              "      <th>j</th>\n",
              "      <th>Confidence</th>\n",
              "      <th>Interest</th>\n",
              "    </tr>\n",
              "  </thead>\n",
              "  <tbody>\n",
              "    <tr>\n",
              "      <th>0</th>\n",
              "      <td>(ukraine, crime)</td>\n",
              "      <td>war</td>\n",
              "      <td>0.821918</td>\n",
              "      <td>0.665118</td>\n",
              "    </tr>\n",
              "    <tr>\n",
              "      <th>1</th>\n",
              "      <td>(russia, war)</td>\n",
              "      <td>ukraine</td>\n",
              "      <td>0.745098</td>\n",
              "      <td>0.242098</td>\n",
              "    </tr>\n",
              "    <tr>\n",
              "      <th>9</th>\n",
              "      <td>(putin, ukraine)</td>\n",
              "      <td>russia</td>\n",
              "      <td>0.461358</td>\n",
              "      <td>0.196558</td>\n",
              "    </tr>\n",
              "    <tr>\n",
              "      <th>15</th>\n",
              "      <td>(putin, ukraine)</td>\n",
              "      <td>war</td>\n",
              "      <td>0.346604</td>\n",
              "      <td>0.189804</td>\n",
              "    </tr>\n",
              "    <tr>\n",
              "      <th>2</th>\n",
              "      <td>(russian, war)</td>\n",
              "      <td>ukraine</td>\n",
              "      <td>0.684492</td>\n",
              "      <td>0.181492</td>\n",
              "    </tr>\n",
              "    <tr>\n",
              "      <th>23</th>\n",
              "      <td>(ukraine, war)</td>\n",
              "      <td>crime</td>\n",
              "      <td>0.233463</td>\n",
              "      <td>0.179663</td>\n",
              "    </tr>\n",
              "    <tr>\n",
              "      <th>3</th>\n",
              "      <td>(russia, russian)</td>\n",
              "      <td>ukraine</td>\n",
              "      <td>0.663300</td>\n",
              "      <td>0.160300</td>\n",
              "    </tr>\n",
              "    <tr>\n",
              "      <th>4</th>\n",
              "      <td>(bucha, russia)</td>\n",
              "      <td>ukraine</td>\n",
              "      <td>0.655738</td>\n",
              "      <td>0.152738</td>\n",
              "    </tr>\n",
              "    <tr>\n",
              "      <th>13</th>\n",
              "      <td>(ukrainian, ukraine)</td>\n",
              "      <td>russian</td>\n",
              "      <td>0.367273</td>\n",
              "      <td>0.145473</td>\n",
              "    </tr>\n",
              "    <tr>\n",
              "      <th>5</th>\n",
              "      <td>(putin, russia)</td>\n",
              "      <td>ukraine</td>\n",
              "      <td>0.623418</td>\n",
              "      <td>0.120418</td>\n",
              "    </tr>\n",
              "    <tr>\n",
              "      <th>18</th>\n",
              "      <td>(ukraine, war)</td>\n",
              "      <td>putin</td>\n",
              "      <td>0.287938</td>\n",
              "      <td>0.108338</td>\n",
              "    </tr>\n",
              "    <tr>\n",
              "      <th>12</th>\n",
              "      <td>(ukraine, war)</td>\n",
              "      <td>russia</td>\n",
              "      <td>0.369650</td>\n",
              "      <td>0.104850</td>\n",
              "    </tr>\n",
              "    <tr>\n",
              "      <th>14</th>\n",
              "      <td>(bucha, ukraine)</td>\n",
              "      <td>russia</td>\n",
              "      <td>0.357143</td>\n",
              "      <td>0.092343</td>\n",
              "    </tr>\n",
              "    <tr>\n",
              "      <th>17</th>\n",
              "      <td>(bucha, ukraine)</td>\n",
              "      <td>russian</td>\n",
              "      <td>0.306548</td>\n",
              "      <td>0.084748</td>\n",
              "    </tr>\n",
              "    <tr>\n",
              "      <th>16</th>\n",
              "      <td>(ukraine, russian)</td>\n",
              "      <td>russia</td>\n",
              "      <td>0.346221</td>\n",
              "      <td>0.081421</td>\n",
              "    </tr>\n",
              "    <tr>\n",
              "      <th>6</th>\n",
              "      <td>(putin, war)</td>\n",
              "      <td>ukraine</td>\n",
              "      <td>0.573643</td>\n",
              "      <td>0.070643</td>\n",
              "    </tr>\n",
              "    <tr>\n",
              "      <th>24</th>\n",
              "      <td>(russia, ukraine)</td>\n",
              "      <td>war</td>\n",
              "      <td>0.227273</td>\n",
              "      <td>0.070473</td>\n",
              "    </tr>\n",
              "    <tr>\n",
              "      <th>7</th>\n",
              "      <td>(crime, war)</td>\n",
              "      <td>ukraine</td>\n",
              "      <td>0.571429</td>\n",
              "      <td>0.068429</td>\n",
              "    </tr>\n",
              "    <tr>\n",
              "      <th>25</th>\n",
              "      <td>(ukraine, russian)</td>\n",
              "      <td>war</td>\n",
              "      <td>0.224956</td>\n",
              "      <td>0.068156</td>\n",
              "    </tr>\n",
              "    <tr>\n",
              "      <th>28</th>\n",
              "      <td>(ukraine, russian)</td>\n",
              "      <td>ukrainian</td>\n",
              "      <td>0.177504</td>\n",
              "      <td>0.065704</td>\n",
              "    </tr>\n",
              "    <tr>\n",
              "      <th>22</th>\n",
              "      <td>(russia, ukraine)</td>\n",
              "      <td>putin</td>\n",
              "      <td>0.235646</td>\n",
              "      <td>0.056046</td>\n",
              "    </tr>\n",
              "    <tr>\n",
              "      <th>26</th>\n",
              "      <td>(ukraine, russian)</td>\n",
              "      <td>bucha</td>\n",
              "      <td>0.181019</td>\n",
              "      <td>0.030019</td>\n",
              "    </tr>\n",
              "    <tr>\n",
              "      <th>19</th>\n",
              "      <td>(ukraine, war)</td>\n",
              "      <td>russian</td>\n",
              "      <td>0.249027</td>\n",
              "      <td>0.027227</td>\n",
              "    </tr>\n",
              "    <tr>\n",
              "      <th>20</th>\n",
              "      <td>(putin, ukraine)</td>\n",
              "      <td>russian</td>\n",
              "      <td>0.241218</td>\n",
              "      <td>0.019418</td>\n",
              "    </tr>\n",
              "    <tr>\n",
              "      <th>8</th>\n",
              "      <td>(putin, russian)</td>\n",
              "      <td>ukraine</td>\n",
              "      <td>0.517588</td>\n",
              "      <td>0.014588</td>\n",
              "    </tr>\n",
              "    <tr>\n",
              "      <th>21</th>\n",
              "      <td>(russia, ukraine)</td>\n",
              "      <td>russian</td>\n",
              "      <td>0.235646</td>\n",
              "      <td>0.013846</td>\n",
              "    </tr>\n",
              "    <tr>\n",
              "      <th>27</th>\n",
              "      <td>(ukraine, russian)</td>\n",
              "      <td>putin</td>\n",
              "      <td>0.181019</td>\n",
              "      <td>0.001419</td>\n",
              "    </tr>\n",
              "    <tr>\n",
              "      <th>29</th>\n",
              "      <td>(russia, ukraine)</td>\n",
              "      <td>bucha</td>\n",
              "      <td>0.143541</td>\n",
              "      <td>-0.007459</td>\n",
              "    </tr>\n",
              "    <tr>\n",
              "      <th>10</th>\n",
              "      <td>(ukrainian, russian)</td>\n",
              "      <td>ukraine</td>\n",
              "      <td>0.415638</td>\n",
              "      <td>-0.087362</td>\n",
              "    </tr>\n",
              "    <tr>\n",
              "      <th>11</th>\n",
              "      <td>(bucha, russian)</td>\n",
              "      <td>ukraine</td>\n",
              "      <td>0.399225</td>\n",
              "      <td>-0.103775</td>\n",
              "    </tr>\n",
              "  </tbody>\n",
              "</table>\n",
              "</div>\n",
              "      <button class=\"colab-df-convert\" onclick=\"convertToInteractive('df-8e55c123-e960-447a-afba-358c9906706d')\"\n",
              "              title=\"Convert this dataframe to an interactive table.\"\n",
              "              style=\"display:none;\">\n",
              "        \n",
              "  <svg xmlns=\"http://www.w3.org/2000/svg\" height=\"24px\"viewBox=\"0 0 24 24\"\n",
              "       width=\"24px\">\n",
              "    <path d=\"M0 0h24v24H0V0z\" fill=\"none\"/>\n",
              "    <path d=\"M18.56 5.44l.94 2.06.94-2.06 2.06-.94-2.06-.94-.94-2.06-.94 2.06-2.06.94zm-11 1L8.5 8.5l.94-2.06 2.06-.94-2.06-.94L8.5 2.5l-.94 2.06-2.06.94zm10 10l.94 2.06.94-2.06 2.06-.94-2.06-.94-.94-2.06-.94 2.06-2.06.94z\"/><path d=\"M17.41 7.96l-1.37-1.37c-.4-.4-.92-.59-1.43-.59-.52 0-1.04.2-1.43.59L10.3 9.45l-7.72 7.72c-.78.78-.78 2.05 0 2.83L4 21.41c.39.39.9.59 1.41.59.51 0 1.02-.2 1.41-.59l7.78-7.78 2.81-2.81c.8-.78.8-2.07 0-2.86zM5.41 20L4 18.59l7.72-7.72 1.47 1.35L5.41 20z\"/>\n",
              "  </svg>\n",
              "      </button>\n",
              "      \n",
              "  <style>\n",
              "    .colab-df-container {\n",
              "      display:flex;\n",
              "      flex-wrap:wrap;\n",
              "      gap: 12px;\n",
              "    }\n",
              "\n",
              "    .colab-df-convert {\n",
              "      background-color: #E8F0FE;\n",
              "      border: none;\n",
              "      border-radius: 50%;\n",
              "      cursor: pointer;\n",
              "      display: none;\n",
              "      fill: #1967D2;\n",
              "      height: 32px;\n",
              "      padding: 0 0 0 0;\n",
              "      width: 32px;\n",
              "    }\n",
              "\n",
              "    .colab-df-convert:hover {\n",
              "      background-color: #E2EBFA;\n",
              "      box-shadow: 0px 1px 2px rgba(60, 64, 67, 0.3), 0px 1px 3px 1px rgba(60, 64, 67, 0.15);\n",
              "      fill: #174EA6;\n",
              "    }\n",
              "\n",
              "    [theme=dark] .colab-df-convert {\n",
              "      background-color: #3B4455;\n",
              "      fill: #D2E3FC;\n",
              "    }\n",
              "\n",
              "    [theme=dark] .colab-df-convert:hover {\n",
              "      background-color: #434B5C;\n",
              "      box-shadow: 0px 1px 3px 1px rgba(0, 0, 0, 0.15);\n",
              "      filter: drop-shadow(0px 1px 2px rgba(0, 0, 0, 0.3));\n",
              "      fill: #FFFFFF;\n",
              "    }\n",
              "  </style>\n",
              "\n",
              "      <script>\n",
              "        const buttonEl =\n",
              "          document.querySelector('#df-8e55c123-e960-447a-afba-358c9906706d button.colab-df-convert');\n",
              "        buttonEl.style.display =\n",
              "          google.colab.kernel.accessAllowed ? 'block' : 'none';\n",
              "\n",
              "        async function convertToInteractive(key) {\n",
              "          const element = document.querySelector('#df-8e55c123-e960-447a-afba-358c9906706d');\n",
              "          const dataTable =\n",
              "            await google.colab.kernel.invokeFunction('convertToInteractive',\n",
              "                                                     [key], {});\n",
              "          if (!dataTable) return;\n",
              "\n",
              "          const docLinkHtml = 'Like what you see? Visit the ' +\n",
              "            '<a target=\"_blank\" href=https://colab.research.google.com/notebooks/data_table.ipynb>data table notebook</a>'\n",
              "            + ' to learn more about interactive tables.';\n",
              "          element.innerHTML = '';\n",
              "          dataTable['output_type'] = 'display_data';\n",
              "          await google.colab.output.renderOutput(dataTable, element);\n",
              "          const docLink = document.createElement('div');\n",
              "          docLink.innerHTML = docLinkHtml;\n",
              "          element.appendChild(docLink);\n",
              "        }\n",
              "      </script>\n",
              "    </div>\n",
              "  </div>\n",
              "  "
            ]
          },
          "metadata": {},
          "execution_count": 24
        }
      ]
    }
  ]
}